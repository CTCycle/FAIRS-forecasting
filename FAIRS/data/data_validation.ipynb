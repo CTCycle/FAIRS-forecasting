{
 "cells": [
  {
   "cell_type": "code",
   "execution_count": null,
   "metadata": {},
   "outputs": [],
   "source": [
    "import os\n",
    "import sys\n",
    "import pandas as pd\n",
    "from sklearn.preprocessing import OrdinalEncoder, OneHotEncoder\n",
    "\n",
    "# setting warnings\n",
    "import warnings\n",
    "warnings.simplefilter(action='ignore', category=Warning)\n",
    "\n",
    "# import modules and components\n",
    "from FAIRS.commons.utils.preprocessing import PreProcessing\n",
    "from FAIRS.commons.utils.validation import ModelValidation\n",
    "from FAIRS.commons.pathfinder import DATA_PATH, CHECKPOINT_PATH\n",
    "import FAIRS.commons.configurations as cnf"
   ]
  },
  {
   "cell_type": "markdown",
   "metadata": {},
   "source": [
    "# Load and prepare data"
   ]
  },
  {
   "cell_type": "code",
   "execution_count": null,
   "metadata": {},
   "outputs": [],
   "source": [
    "filepath = os.path.join(DATA_PATH, 'FAIRS_dataset.csv')                \n",
    "df_FAIRS = pd.read_csv(filepath, sep= ';', encoding='utf-8')\n",
    "num_samples = int(df_FAIRS.shape[0] * cnf.data_size)\n",
    "df_FAIRS = df_FAIRS[(df_FAIRS.shape[0] - num_samples):]\n",
    "\n",
    "preprocessor = PreProcessing()\n",
    "\n",
    "# add number positions, map numbers to roulette color and reshape dataset\n",
    "categories = [['green', 'black', 'red']]\n",
    "categorical_encoder = OrdinalEncoder(categories=categories, handle_unknown='use_encoded_value', unknown_value=-1)\n",
    "df_FAIRS = preprocessor.roulette_colormapping(df_FAIRS, no_mapping=False)\n",
    "timeseries = categorical_encoder.fit_transform(df_FAIRS['encoding'].values.reshape(-1, 1))\n",
    "timeseries = pd.DataFrame(timeseries, columns=['encoding'])\n",
    "\n",
    "# split dataset into train and test and generate window-dataset\n",
    "train_data, test_data = preprocessor.split_timeseries(timeseries, cnf.test_size, inverted=cnf.invert_test)   \n",
    "train_samples, test_samples = train_data.shape[0], test_data.shape[0]\n",
    "X_train, Y_train = preprocessor.timeseries_labeling(train_data, cnf.window_size) \n",
    "X_test, Y_test = preprocessor.timeseries_labeling(test_data, cnf.window_size)   \n",
    "\n",
    "# one hot encode the output for softmax training shape = (timesteps, features)\n",
    "OH_encoder = OneHotEncoder(sparse=False)\n",
    "Y_train_OHE = OH_encoder.fit_transform(Y_train.reshape(Y_train.shape[0], -1))\n",
    "Y_test_OHE = OH_encoder.transform(Y_test.reshape(Y_test.shape[0], -1))"
   ]
  },
  {
   "cell_type": "markdown",
   "metadata": {},
   "source": [
    "# Data validation"
   ]
  },
  {
   "cell_type": "markdown",
   "metadata": {},
   "source": [
    "### 1. ..."
   ]
  },
  {
   "cell_type": "code",
   "execution_count": null,
   "metadata": {},
   "outputs": [],
   "source": [
    "print(f'''DISTRIBUTION OF CLASSES\n",
    "-------------------------------------------------------------------------------  \n",
    "Most frequent class in train dataset: {most_freq_train}\n",
    "Most frequent class in test dataset:  {most_freq_test}\n",
    "Number of classes in train dataset:   {train_data.nunique()['encoding']}\n",
    "Number of classes in test dataset:    {test_data.nunique()['encoding']}\n",
    "-------------------------------------------------------------------------------''')"
   ]
  }
 ],
 "metadata": {
  "kernelspec": {
   "display_name": "Aquarius",
   "language": "python",
   "name": "python3"
  },
  "language_info": {
   "codemirror_mode": {
    "name": "ipython",
    "version": 3
   },
   "file_extension": ".py",
   "mimetype": "text/x-python",
   "name": "python",
   "nbconvert_exporter": "python",
   "pygments_lexer": "ipython3",
   "version": "3.10.13"
  }
 },
 "nbformat": 4,
 "nbformat_minor": 2
}
